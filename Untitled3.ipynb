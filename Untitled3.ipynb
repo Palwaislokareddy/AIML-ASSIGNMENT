{
  "nbformat": 4,
  "nbformat_minor": 0,
  "metadata": {
    "colab": {
      "provenance": [],
      "toc_visible": true
    },
    "kernelspec": {
      "name": "python3",
      "display_name": "Python 3"
    },
    "language_info": {
      "name": "python"
    }
  },
  "cells": [
    {
      "cell_type": "code",
      "execution_count": 1,
      "metadata": {
        "id": "fKkFSe_DDHT_"
      },
      "outputs": [],
      "source": [
        "import pandas as pd"
      ]
    },
    {
      "cell_type": "code",
      "source": [
        "house=pd.read_csv('/content/housing.csv')\n",
        "print(house.describe())"
      ],
      "metadata": {
        "colab": {
          "base_uri": "https://localhost:8080/"
        },
        "id": "-lptE2pYDtAH",
        "outputId": "f00cfac8-7f95-4f92-a8f0-9f1ef4899413"
      },
      "execution_count": 3,
      "outputs": [
        {
          "output_type": "stream",
          "name": "stdout",
          "text": [
            "          longitude      latitude  housing_median_age   total_rooms  \\\n",
            "count  20640.000000  20640.000000        20640.000000  20640.000000   \n",
            "mean    -119.569704     35.631861           28.639486   2635.763081   \n",
            "std        2.003532      2.135952           12.585558   2181.615252   \n",
            "min     -124.350000     32.540000            1.000000      2.000000   \n",
            "25%     -121.800000     33.930000           18.000000   1447.750000   \n",
            "50%     -118.490000     34.260000           29.000000   2127.000000   \n",
            "75%     -118.010000     37.710000           37.000000   3148.000000   \n",
            "max     -114.310000     41.950000           52.000000  39320.000000   \n",
            "\n",
            "       total_bedrooms    population    households  median_income  \\\n",
            "count    20433.000000  20640.000000  20640.000000   20640.000000   \n",
            "mean       537.870553   1425.476744    499.539680       3.870671   \n",
            "std        421.385070   1132.462122    382.329753       1.899822   \n",
            "min          1.000000      3.000000      1.000000       0.499900   \n",
            "25%        296.000000    787.000000    280.000000       2.563400   \n",
            "50%        435.000000   1166.000000    409.000000       3.534800   \n",
            "75%        647.000000   1725.000000    605.000000       4.743250   \n",
            "max       6445.000000  35682.000000   6082.000000      15.000100   \n",
            "\n",
            "       median_house_value  \n",
            "count        20640.000000  \n",
            "mean        206855.816909  \n",
            "std         115395.615874  \n",
            "min          14999.000000  \n",
            "25%         119600.000000  \n",
            "50%         179700.000000  \n",
            "75%         264725.000000  \n",
            "max         500001.000000  \n"
          ]
        }
      ]
    },
    {
      "cell_type": "code",
      "source": [
        "print(house.dtypes)\n",
        "print(\"shape\",house.shape)"
      ],
      "metadata": {
        "colab": {
          "base_uri": "https://localhost:8080/"
        },
        "id": "QrPcu8dqEEdt",
        "outputId": "eadc0169-7f36-4031-d4a4-1ac16a84561a"
      },
      "execution_count": 4,
      "outputs": [
        {
          "output_type": "stream",
          "name": "stdout",
          "text": [
            "longitude             float64\n",
            "latitude              float64\n",
            "housing_median_age    float64\n",
            "total_rooms           float64\n",
            "total_bedrooms        float64\n",
            "population            float64\n",
            "households            float64\n",
            "median_income         float64\n",
            "median_house_value    float64\n",
            "ocean_proximity        object\n",
            "dtype: object\n",
            "shape (20640, 10)\n"
          ]
        }
      ]
    },
    {
      "cell_type": "code",
      "source": [
        "h=house.drop('ocean_proximity',axis=1)"
      ],
      "metadata": {
        "id": "lO1NjxNVF8_c"
      },
      "execution_count": 21,
      "outputs": []
    },
    {
      "cell_type": "code",
      "source": [
        "print(h.isnull().sum())"
      ],
      "metadata": {
        "colab": {
          "base_uri": "https://localhost:8080/"
        },
        "id": "mNZSokPpEhX8",
        "outputId": "366badcd-7ac5-42c9-9493-99cefa13f4a0"
      },
      "execution_count": 23,
      "outputs": [
        {
          "output_type": "stream",
          "name": "stdout",
          "text": [
            "longitude               0\n",
            "latitude                0\n",
            "housing_median_age      0\n",
            "total_rooms             0\n",
            "total_bedrooms        207\n",
            "population              0\n",
            "households              0\n",
            "median_income           0\n",
            "median_house_value      0\n",
            "dtype: int64\n"
          ]
        }
      ]
    },
    {
      "cell_type": "code",
      "source": [
        "t=h['total_bedrooms'].isnull().sum()/h.shape[0]"
      ],
      "metadata": {
        "id": "eWXtvih8ElXS"
      },
      "execution_count": 36,
      "outputs": []
    },
    {
      "cell_type": "code",
      "source": [
        "y=h['median_house_value']\n",
        "x=h.drop('median_house_value',axis=1)"
      ],
      "metadata": {
        "id": "rEDSn2cyGIOa"
      },
      "execution_count": 26,
      "outputs": []
    },
    {
      "cell_type": "code",
      "source": [
        "x=x.fillna(0)"
      ],
      "metadata": {
        "id": "Bw4hqZ1qI1dL"
      },
      "execution_count": 47,
      "outputs": []
    },
    {
      "cell_type": "code",
      "source": [
        "print(x)\n",
        "print(y)"
      ],
      "metadata": {
        "colab": {
          "base_uri": "https://localhost:8080/"
        },
        "id": "c3i_NzZoGNrX",
        "outputId": "41a94fb8-7acd-4d9e-a10f-468da68bb685"
      },
      "execution_count": 48,
      "outputs": [
        {
          "output_type": "stream",
          "name": "stdout",
          "text": [
            "       longitude  latitude  housing_median_age  total_rooms  total_bedrooms  \\\n",
            "0        -122.23     37.88                41.0        880.0           129.0   \n",
            "1        -122.22     37.86                21.0       7099.0          1106.0   \n",
            "2        -122.24     37.85                52.0       1467.0           190.0   \n",
            "3        -122.25     37.85                52.0       1274.0           235.0   \n",
            "4        -122.25     37.85                52.0       1627.0           280.0   \n",
            "...          ...       ...                 ...          ...             ...   \n",
            "20635    -121.09     39.48                25.0       1665.0           374.0   \n",
            "20636    -121.21     39.49                18.0        697.0           150.0   \n",
            "20637    -121.22     39.43                17.0       2254.0           485.0   \n",
            "20638    -121.32     39.43                18.0       1860.0           409.0   \n",
            "20639    -121.24     39.37                16.0       2785.0           616.0   \n",
            "\n",
            "       population  households  median_income  \n",
            "0           322.0       126.0         8.3252  \n",
            "1          2401.0      1138.0         8.3014  \n",
            "2           496.0       177.0         7.2574  \n",
            "3           558.0       219.0         5.6431  \n",
            "4           565.0       259.0         3.8462  \n",
            "...           ...         ...            ...  \n",
            "20635       845.0       330.0         1.5603  \n",
            "20636       356.0       114.0         2.5568  \n",
            "20637      1007.0       433.0         1.7000  \n",
            "20638       741.0       349.0         1.8672  \n",
            "20639      1387.0       530.0         2.3886  \n",
            "\n",
            "[20640 rows x 8 columns]\n",
            "0        452600.0\n",
            "1        358500.0\n",
            "2        352100.0\n",
            "3        341300.0\n",
            "4        342200.0\n",
            "           ...   \n",
            "20635     78100.0\n",
            "20636     77100.0\n",
            "20637     92300.0\n",
            "20638     84700.0\n",
            "20639     89400.0\n",
            "Name: median_house_value, Length: 20640, dtype: float64\n"
          ]
        }
      ]
    },
    {
      "cell_type": "code",
      "source": [
        "from sklearn.model_selection import train_test_split"
      ],
      "metadata": {
        "id": "H40TP-MJGUQZ"
      },
      "execution_count": 39,
      "outputs": []
    },
    {
      "cell_type": "code",
      "source": [
        "x_train,x_test,y_train,y_test=train_test_split(x,y,test_size=0.2,random_state=42)"
      ],
      "metadata": {
        "id": "kvv1dW7mGWGo"
      },
      "execution_count": 62,
      "outputs": []
    },
    {
      "cell_type": "code",
      "source": [
        "print(x_train.isnull())\n",
        "\n",
        "print(x_train)"
      ],
      "metadata": {
        "colab": {
          "base_uri": "https://localhost:8080/"
        },
        "id": "P0XZoXGHGjLM",
        "outputId": "c1cefd3e-98f3-4899-bef0-2ea4ecd62f6a"
      },
      "execution_count": 63,
      "outputs": [
        {
          "output_type": "stream",
          "name": "stdout",
          "text": [
            "       longitude  latitude  housing_median_age  total_rooms  total_bedrooms  \\\n",
            "14196      False     False               False        False           False   \n",
            "8267       False     False               False        False           False   \n",
            "17445      False     False               False        False           False   \n",
            "14265      False     False               False        False           False   \n",
            "2271       False     False               False        False           False   \n",
            "...          ...       ...                 ...          ...             ...   \n",
            "11284      False     False               False        False           False   \n",
            "11964      False     False               False        False           False   \n",
            "5390       False     False               False        False           False   \n",
            "860        False     False               False        False           False   \n",
            "15795      False     False               False        False           False   \n",
            "\n",
            "       population  households  median_income  \n",
            "14196       False       False          False  \n",
            "8267        False       False          False  \n",
            "17445       False       False          False  \n",
            "14265       False       False          False  \n",
            "2271        False       False          False  \n",
            "...           ...         ...            ...  \n",
            "11284       False       False          False  \n",
            "11964       False       False          False  \n",
            "5390        False       False          False  \n",
            "860         False       False          False  \n",
            "15795       False       False          False  \n",
            "\n",
            "[16512 rows x 8 columns]\n",
            "       longitude  latitude  housing_median_age  total_rooms  total_bedrooms  \\\n",
            "14196    -117.03     32.71                33.0       3126.0           627.0   \n",
            "8267     -118.16     33.77                49.0       3382.0           787.0   \n",
            "17445    -120.48     34.66                 4.0       1897.0           331.0   \n",
            "14265    -117.11     32.69                36.0       1421.0           367.0   \n",
            "2271     -119.80     36.78                43.0       2382.0           431.0   \n",
            "...          ...       ...                 ...          ...             ...   \n",
            "11284    -117.96     33.78                35.0       1330.0           201.0   \n",
            "11964    -117.43     34.02                33.0       3084.0           570.0   \n",
            "5390     -118.38     34.03                36.0       2101.0           569.0   \n",
            "860      -121.96     37.58                15.0       3575.0           597.0   \n",
            "15795    -122.42     37.77                52.0       4226.0          1315.0   \n",
            "\n",
            "       population  households  median_income  \n",
            "14196      2300.0       623.0         3.2596  \n",
            "8267       1314.0       756.0         3.8125  \n",
            "17445       915.0       336.0         4.1563  \n",
            "14265      1418.0       355.0         1.9425  \n",
            "2271        874.0       380.0         3.5542  \n",
            "...           ...         ...            ...  \n",
            "11284       658.0       217.0         6.3700  \n",
            "11964      1753.0       449.0         3.0500  \n",
            "5390       1756.0       527.0         2.9344  \n",
            "860        1777.0       559.0         5.7192  \n",
            "15795      2619.0      1242.0         2.5755  \n",
            "\n",
            "[16512 rows x 8 columns]\n"
          ]
        }
      ]
    },
    {
      "cell_type": "code",
      "source": [
        "print(x_test)"
      ],
      "metadata": {
        "colab": {
          "base_uri": "https://localhost:8080/"
        },
        "id": "AFLS2g46Gk_F",
        "outputId": "068c0d5a-82ca-4914-d464-eb1314eeab38"
      },
      "execution_count": 64,
      "outputs": [
        {
          "output_type": "stream",
          "name": "stdout",
          "text": [
            "       longitude  latitude  housing_median_age  total_rooms  total_bedrooms  \\\n",
            "20046    -119.01     36.06                25.0       1505.0        0.010029   \n",
            "3024     -119.46     35.14                30.0       2943.0        0.010029   \n",
            "15663    -122.44     37.80                52.0       3830.0        0.010029   \n",
            "20484    -118.72     34.28                17.0       3051.0        0.010029   \n",
            "9814     -121.93     36.62                34.0       2351.0        0.010029   \n",
            "...          ...       ...                 ...          ...             ...   \n",
            "15362    -117.22     33.36                16.0       3165.0      482.000000   \n",
            "16623    -120.83     35.36                28.0       4323.0      886.000000   \n",
            "18086    -122.05     37.31                25.0       4111.0      538.000000   \n",
            "2144     -119.76     36.77                36.0       2507.0      466.000000   \n",
            "3665     -118.37     34.22                17.0       1787.0      463.000000   \n",
            "\n",
            "       population  households  median_income  \n",
            "20046      1392.0       359.0         1.6812  \n",
            "3024       1565.0       584.0         2.5313  \n",
            "15663      1310.0       963.0         3.4801  \n",
            "20484      1705.0       495.0         5.7376  \n",
            "9814       1063.0       428.0         3.7250  \n",
            "...           ...         ...            ...  \n",
            "15362      1351.0       452.0         4.6050  \n",
            "16623      1650.0       705.0         2.7266  \n",
            "18086      1585.0       568.0         9.2298  \n",
            "2144       1227.0       474.0         2.7850  \n",
            "3665       1671.0       448.0         3.5521  \n",
            "\n",
            "[4128 rows x 8 columns]\n"
          ]
        }
      ]
    },
    {
      "cell_type": "code",
      "source": [
        "print(y_train)\n",
        "\n",
        "\n",
        "\n"
      ],
      "metadata": {
        "colab": {
          "base_uri": "https://localhost:8080/"
        },
        "id": "RxtZtIxhGorl",
        "outputId": "c1ade711-1f5a-4cdd-e757-b6a271c3e0b0"
      },
      "execution_count": 65,
      "outputs": [
        {
          "output_type": "stream",
          "name": "stdout",
          "text": [
            "14196    103000.0\n",
            "8267     382100.0\n",
            "17445    172600.0\n",
            "14265     93400.0\n",
            "2271      96500.0\n",
            "           ...   \n",
            "11284    229200.0\n",
            "11964     97800.0\n",
            "5390     222100.0\n",
            "860      283500.0\n",
            "15795    325000.0\n",
            "Name: median_house_value, Length: 16512, dtype: float64\n"
          ]
        }
      ]
    },
    {
      "cell_type": "code",
      "source": [
        "print(y_test)"
      ],
      "metadata": {
        "colab": {
          "base_uri": "https://localhost:8080/"
        },
        "id": "On28D8duG11K",
        "outputId": "38e3927c-8e86-40b4-d482-8862b62332f1"
      },
      "execution_count": 66,
      "outputs": [
        {
          "output_type": "stream",
          "name": "stdout",
          "text": [
            "20046     47700.0\n",
            "3024      45800.0\n",
            "15663    500001.0\n",
            "20484    218600.0\n",
            "9814     278000.0\n",
            "           ...   \n",
            "15362    263300.0\n",
            "16623    266800.0\n",
            "18086    500001.0\n",
            "2144      72300.0\n",
            "3665     151500.0\n",
            "Name: median_house_value, Length: 4128, dtype: float64\n"
          ]
        }
      ]
    },
    {
      "cell_type": "code",
      "source": [
        "from sklearn.preprocessing import MinMaxScaler"
      ],
      "metadata": {
        "id": "dSByt_wVHBcd"
      },
      "execution_count": 67,
      "outputs": []
    },
    {
      "cell_type": "code",
      "source": [
        "scaler = MinMaxScaler()\n",
        "X_train_scaled = scaler.fit_transform(x_train)\n",
        "X_test_scaled = scaler.transform(x_test)"
      ],
      "metadata": {
        "id": "8F8XO_hxPKHk"
      },
      "execution_count": 68,
      "outputs": []
    },
    {
      "cell_type": "code",
      "source": [
        "from sklearn.linear_model import LinearRegression\n",
        "\n",
        "model=LinearRegression()\n",
        "model.fit(X_train_scaled, y_train)"
      ],
      "metadata": {
        "colab": {
          "base_uri": "https://localhost:8080/",
          "height": 75
        },
        "id": "8JKms0PhPUsk",
        "outputId": "947e426f-76b5-42ca-b235-1dd487020e73"
      },
      "execution_count": 86,
      "outputs": [
        {
          "output_type": "execute_result",
          "data": {
            "text/plain": [
              "LinearRegression()"
            ],
            "text/html": [
              "<style>#sk-container-id-2 {color: black;background-color: white;}#sk-container-id-2 pre{padding: 0;}#sk-container-id-2 div.sk-toggleable {background-color: white;}#sk-container-id-2 label.sk-toggleable__label {cursor: pointer;display: block;width: 100%;margin-bottom: 0;padding: 0.3em;box-sizing: border-box;text-align: center;}#sk-container-id-2 label.sk-toggleable__label-arrow:before {content: \"▸\";float: left;margin-right: 0.25em;color: #696969;}#sk-container-id-2 label.sk-toggleable__label-arrow:hover:before {color: black;}#sk-container-id-2 div.sk-estimator:hover label.sk-toggleable__label-arrow:before {color: black;}#sk-container-id-2 div.sk-toggleable__content {max-height: 0;max-width: 0;overflow: hidden;text-align: left;background-color: #f0f8ff;}#sk-container-id-2 div.sk-toggleable__content pre {margin: 0.2em;color: black;border-radius: 0.25em;background-color: #f0f8ff;}#sk-container-id-2 input.sk-toggleable__control:checked~div.sk-toggleable__content {max-height: 200px;max-width: 100%;overflow: auto;}#sk-container-id-2 input.sk-toggleable__control:checked~label.sk-toggleable__label-arrow:before {content: \"▾\";}#sk-container-id-2 div.sk-estimator input.sk-toggleable__control:checked~label.sk-toggleable__label {background-color: #d4ebff;}#sk-container-id-2 div.sk-label input.sk-toggleable__control:checked~label.sk-toggleable__label {background-color: #d4ebff;}#sk-container-id-2 input.sk-hidden--visually {border: 0;clip: rect(1px 1px 1px 1px);clip: rect(1px, 1px, 1px, 1px);height: 1px;margin: -1px;overflow: hidden;padding: 0;position: absolute;width: 1px;}#sk-container-id-2 div.sk-estimator {font-family: monospace;background-color: #f0f8ff;border: 1px dotted black;border-radius: 0.25em;box-sizing: border-box;margin-bottom: 0.5em;}#sk-container-id-2 div.sk-estimator:hover {background-color: #d4ebff;}#sk-container-id-2 div.sk-parallel-item::after {content: \"\";width: 100%;border-bottom: 1px solid gray;flex-grow: 1;}#sk-container-id-2 div.sk-label:hover label.sk-toggleable__label {background-color: #d4ebff;}#sk-container-id-2 div.sk-serial::before {content: \"\";position: absolute;border-left: 1px solid gray;box-sizing: border-box;top: 0;bottom: 0;left: 50%;z-index: 0;}#sk-container-id-2 div.sk-serial {display: flex;flex-direction: column;align-items: center;background-color: white;padding-right: 0.2em;padding-left: 0.2em;position: relative;}#sk-container-id-2 div.sk-item {position: relative;z-index: 1;}#sk-container-id-2 div.sk-parallel {display: flex;align-items: stretch;justify-content: center;background-color: white;position: relative;}#sk-container-id-2 div.sk-item::before, #sk-container-id-2 div.sk-parallel-item::before {content: \"\";position: absolute;border-left: 1px solid gray;box-sizing: border-box;top: 0;bottom: 0;left: 50%;z-index: -1;}#sk-container-id-2 div.sk-parallel-item {display: flex;flex-direction: column;z-index: 1;position: relative;background-color: white;}#sk-container-id-2 div.sk-parallel-item:first-child::after {align-self: flex-end;width: 50%;}#sk-container-id-2 div.sk-parallel-item:last-child::after {align-self: flex-start;width: 50%;}#sk-container-id-2 div.sk-parallel-item:only-child::after {width: 0;}#sk-container-id-2 div.sk-dashed-wrapped {border: 1px dashed gray;margin: 0 0.4em 0.5em 0.4em;box-sizing: border-box;padding-bottom: 0.4em;background-color: white;}#sk-container-id-2 div.sk-label label {font-family: monospace;font-weight: bold;display: inline-block;line-height: 1.2em;}#sk-container-id-2 div.sk-label-container {text-align: center;}#sk-container-id-2 div.sk-container {/* jupyter's `normalize.less` sets `[hidden] { display: none; }` but bootstrap.min.css set `[hidden] { display: none !important; }` so we also need the `!important` here to be able to override the default hidden behavior on the sphinx rendered scikit-learn.org. See: https://github.com/scikit-learn/scikit-learn/issues/21755 */display: inline-block !important;position: relative;}#sk-container-id-2 div.sk-text-repr-fallback {display: none;}</style><div id=\"sk-container-id-2\" class=\"sk-top-container\"><div class=\"sk-text-repr-fallback\"><pre>LinearRegression()</pre><b>In a Jupyter environment, please rerun this cell to show the HTML representation or trust the notebook. <br />On GitHub, the HTML representation is unable to render, please try loading this page with nbviewer.org.</b></div><div class=\"sk-container\" hidden><div class=\"sk-item\"><div class=\"sk-estimator sk-toggleable\"><input class=\"sk-toggleable__control sk-hidden--visually\" id=\"sk-estimator-id-2\" type=\"checkbox\" checked><label for=\"sk-estimator-id-2\" class=\"sk-toggleable__label sk-toggleable__label-arrow\">LinearRegression</label><div class=\"sk-toggleable__content\"><pre>LinearRegression()</pre></div></div></div></div></div>"
            ]
          },
          "metadata": {},
          "execution_count": 86
        }
      ]
    },
    {
      "cell_type": "code",
      "source": [
        "from sklearn.metrics import mean_absolute_error"
      ],
      "metadata": {
        "id": "NZk_JrPvKRY0"
      },
      "execution_count": 87,
      "outputs": []
    },
    {
      "cell_type": "code",
      "source": [
        "yp=model.predict(x_test)"
      ],
      "metadata": {
        "colab": {
          "base_uri": "https://localhost:8080/"
        },
        "id": "bnyvzcDSKf2S",
        "outputId": "994a4af1-73e8-4426-b3f1-25b0da631c0f"
      },
      "execution_count": 71,
      "outputs": [
        {
          "output_type": "stream",
          "name": "stderr",
          "text": [
            "/usr/local/lib/python3.10/dist-packages/sklearn/base.py:432: UserWarning: X has feature names, but LinearRegression was fitted without feature names\n",
            "  warnings.warn(\n"
          ]
        }
      ]
    },
    {
      "cell_type": "code",
      "source": [
        "print(mean_absolute_error(y_test,yp))"
      ],
      "metadata": {
        "colab": {
          "base_uri": "https://localhost:8080/"
        },
        "id": "1ODvB9jqKpc3",
        "outputId": "6ea05847-6bf2-4118-f132-96ebf790e4e2"
      },
      "execution_count": 72,
      "outputs": [
        {
          "output_type": "stream",
          "name": "stdout",
          "text": [
            "2230683674.3994303\n"
          ]
        }
      ]
    },
    {
      "cell_type": "code",
      "source": [
        "yc=model.predict(x_train)"
      ],
      "metadata": {
        "colab": {
          "base_uri": "https://localhost:8080/"
        },
        "id": "Cdk6N2cpMEbI",
        "outputId": "7edec6e7-ebb9-4718-ead6-1e5a0971f5a7"
      },
      "execution_count": 78,
      "outputs": [
        {
          "output_type": "stream",
          "name": "stderr",
          "text": [
            "/usr/local/lib/python3.10/dist-packages/sklearn/base.py:432: UserWarning: X has feature names, but LinearRegression was fitted without feature names\n",
            "  warnings.warn(\n"
          ]
        }
      ]
    },
    {
      "cell_type": "code",
      "source": [
        "print(mean_absolute_error(y_train,yc))"
      ],
      "metadata": {
        "colab": {
          "base_uri": "https://localhost:8080/"
        },
        "id": "Uy1UPmPLMXCh",
        "outputId": "f2fba43c-2a7b-498e-b8fc-2bb650a5bb62"
      },
      "execution_count": 82,
      "outputs": [
        {
          "output_type": "stream",
          "name": "stdout",
          "text": [
            "2224187445.630262\n"
          ]
        }
      ]
    },
    {
      "cell_type": "code",
      "source": [
        "from sklearn.metrics import mean_squared_error"
      ],
      "metadata": {
        "id": "E4EGvY9gLjct"
      },
      "execution_count": 83,
      "outputs": []
    },
    {
      "cell_type": "code",
      "source": [
        "print(mean_squared_error(y_test,yp))"
      ],
      "metadata": {
        "colab": {
          "base_uri": "https://localhost:8080/"
        },
        "id": "Dybtg7_HLxRd",
        "outputId": "1072b6ce-592a-45db-81c5-89277a7bdeda"
      },
      "execution_count": 88,
      "outputs": [
        {
          "output_type": "stream",
          "name": "stdout",
          "text": [
            "8.1910258093998e+18\n"
          ]
        }
      ]
    },
    {
      "cell_type": "code",
      "source": [
        "print(mean_squared_error(y_train,yc))"
      ],
      "metadata": {
        "colab": {
          "base_uri": "https://localhost:8080/"
        },
        "id": "G21hZQGdNnBq",
        "outputId": "d47756f2-66f1-42db-bd3d-236c96b62f55"
      },
      "execution_count": 89,
      "outputs": [
        {
          "output_type": "stream",
          "name": "stdout",
          "text": [
            "8.214530218715092e+18\n"
          ]
        }
      ]
    },
    {
      "cell_type": "code",
      "source": [
        "print(model.intercept_)"
      ],
      "metadata": {
        "colab": {
          "base_uri": "https://localhost:8080/"
        },
        "id": "g4wZ_EMQNVco",
        "outputId": "e6589f8c-6de7-43a4-f9c5-060fec39ceb2"
      },
      "execution_count": 91,
      "outputs": [
        {
          "output_type": "stream",
          "name": "stdout",
          "text": [
            "362842.54408139596\n"
          ]
        }
      ]
    },
    {
      "cell_type": "code",
      "source": [
        "print(model.coef_)"
      ],
      "metadata": {
        "colab": {
          "base_uri": "https://localhost:8080/"
        },
        "id": "_INQV45dOjDd",
        "outputId": "515284b5-4924-4dc1-e527-895a0ac51fd1"
      },
      "execution_count": 92,
      "outputs": [
        {
          "output_type": "stream",
          "name": "stdout",
          "text": [
            "[ -428029.21283376  -399030.67551688    60323.29209313  -321934.88277872\n",
            "   749180.26280705 -1373363.67231175   281809.1800776    587814.97129726]\n"
          ]
        }
      ]
    }
  ]
}